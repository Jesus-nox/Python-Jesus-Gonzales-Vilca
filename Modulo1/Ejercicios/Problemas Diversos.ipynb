{
 "cells": [
  {
   "cell_type": "markdown",
   "metadata": {},
   "source": [
    "# PROBLEMAS DIVERSOS"
   ]
  },
  {
   "cell_type": "markdown",
   "metadata": {},
   "source": [
    "<h3>1.</h3>\n",
    "Escribí un programa que solicite al usuario ingresar la cantidad de kilómetros recorridos por una motocicleta y la cantidad de litros de combustible que consumió durante ese recorrido. Mostrar el consumo de combustible por kilómetro."
   ]
  },
  {
   "cell_type": "markdown",
   "metadata": {},
   "source": [
    "<code>Kilómetros recorridos: 260\n",
    "Litros de combustible gastados: 12.5\n",
    "El consumo por kilómetro es de 20.8<code>"
   ]
  },
  {
   "cell_type": "code",
   "execution_count": 1,
   "metadata": {},
   "outputs": [
    {
     "name": "stdin",
     "output_type": "stream",
     "text": [
      "ingrese los kilometros recorridos 268\n"
     ]
    }
   ],
   "source": [
    "km=input(\"ingrese los kilometros recorridos\")"
   ]
  },
  {
   "cell_type": "code",
   "execution_count": 2,
   "metadata": {},
   "outputs": [
    {
     "name": "stdin",
     "output_type": "stream",
     "text": [
      "ingrese los litros de combustible gastados 26\n"
     ]
    }
   ],
   "source": [
    "lt=input(\"ingrese los litros de combustible gastados\")"
   ]
  },
  {
   "cell_type": "code",
   "execution_count": 3,
   "metadata": {},
   "outputs": [
    {
     "name": "stdin",
     "output_type": "stream",
     "text": [
      "ingrese el consumo por kilometro recorrido 34\n"
     ]
    }
   ],
   "source": [
    "ltporkm=input(\"ingrese el consumo por kilometro recorrido\")"
   ]
  },
  {
   "cell_type": "code",
   "execution_count": null,
   "metadata": {},
   "outputs": [],
   "source": []
  },
  {
   "cell_type": "markdown",
   "metadata": {},
   "source": [
    "### 2.\n",
    "Escriba un programa que pida los coeficientes de una ecuación de segundo grado <code>(a x² + b x + c = 0)</code> y escriba la solución.\n",
    "\n",
    "Se recuerda que una ecuación de segundo grado puede no tener solución, tener una solución única, tener dos soluciones o que todos los números sean solución."
   ]
  },
  {
   "cell_type": "markdown",
   "metadata": {},
   "source": [
    "<img src='https://i.pinimg.com/originals/d3/f7/01/d3f701528ad56ce0f5a98d7c91722fd7.png'>"
   ]
  },
  {
   "cell_type": "markdown",
   "metadata": {},
   "source": [
    "Su programa debe indicar:\n",
    "- En caso la ecuación cuadrática tenga solución real, su programa debe brindar la solución\n",
    "- En caso su ecuación no tenga solución real, su programa debe brindar un mensaje que diga \"Ecuación no presenta solución real\""
   ]
  },
  {
   "cell_type": "code",
   "execution_count": 2,
   "metadata": {},
   "outputs": [
    {
     "name": "stdin",
     "output_type": "stream",
     "text": [
      "Escriba el Coeficiente a:  2\n",
      "Escriba el Coeficiente b:  3\n",
      "Escriba el Coeficiente c:  3\n"
     ]
    },
    {
     "name": "stdout",
     "output_type": "stream",
     "text": [
      "El valor de la Condición es:  -15.0\n",
      "Ecuacion no presenta solucion\n"
     ]
    }
   ],
   "source": [
    "a=float(input(\"Escriba el Coeficiente a: \"))\n",
    "b=float(input(\"Escriba el Coeficiente b: \"))\n",
    "c=float(input(\"Escriba el Coeficiente c: \"))\n",
    "\n",
    "d=b**2-4*a*c\n",
    "\n",
    "print(\"El valor de la Condición es: \", d)\n",
    "\n",
    "e=(-b+(b*2-4*a*c)*(0.5))/(2*a)\n",
    "\n",
    "f=(-b-(b*2-4*a*c)*(0.5))/(2*a)\n",
    "\n",
    "g=(-b)/(2*a)\n",
    "\n",
    "if d > 0:\n",
    "    print(\"Las soluciones son las siguientes: \",e, \"y\" ,f,)\n",
    "elif d < 0:\n",
    "    print(\"Ecuacion no presenta solucion\")\n",
    "else:\n",
    "    print(g)\n",
    "    \n",
    "\n",
    "\n",
    "\n"
   ]
  },
  {
   "cell_type": "code",
   "execution_count": null,
   "metadata": {},
   "outputs": [],
   "source": []
  }
 ],
 "metadata": {
  "kernelspec": {
   "display_name": "Python 3",
   "language": "python",
   "name": "python3"
  },
  "language_info": {
   "codemirror_mode": {
    "name": "ipython",
    "version": 3
   },
   "file_extension": ".py",
   "mimetype": "text/x-python",
   "name": "python",
   "nbconvert_exporter": "python",
   "pygments_lexer": "ipython3",
   "version": "3.8.3"
  }
 },
 "nbformat": 4,
 "nbformat_minor": 4
}
