{
 "cells": [
  {
   "cell_type": "markdown",
   "metadata": {},
   "source": [
    "# PROBLEMAS DIVERSOS"
   ]
  },
  {
   "cell_type": "markdown",
   "metadata": {},
   "source": [
    "<h3>1.</h3>\n",
    "Realizar una función que permita la carga de n alumnos. Por cada alumno se deberá preguntar el nombre completo y permitir el ingreso de 3 notas. Las notas deben estar comprendidas entre 0 y 10. Devolver el listado de alumnos."
   ]
  },
  {
   "cell_type": "code",
   "execution_count": 9,
   "metadata": {},
   "outputs": [
    {
     "name": "stdin",
     "output_type": "stream",
     "text": [
      "¿Cuantos alumnos tienes? 3\n"
     ]
    },
    {
     "name": "stdout",
     "output_type": "stream",
     "text": [
      "tienes 3 alumnos\n"
     ]
    },
    {
     "name": "stdin",
     "output_type": "stream",
     "text": [
      "¿Cual es el nombre de el alumno? juan\n",
      "¿Cual es la primera nota? 4\n"
     ]
    },
    {
     "name": "stdout",
     "output_type": "stream",
     "text": [
      "la nota es 4\n"
     ]
    },
    {
     "name": "stdin",
     "output_type": "stream",
     "text": [
      "¿Cual es la segunda nota? 4\n"
     ]
    },
    {
     "name": "stdout",
     "output_type": "stream",
     "text": [
      "la nota es 4\n"
     ]
    },
    {
     "name": "stdin",
     "output_type": "stream",
     "text": [
      "¿Cual es la tercera nota? 4\n"
     ]
    },
    {
     "name": "stdout",
     "output_type": "stream",
     "text": [
      "la nota es 4\n",
      "el promedio de el alumno  juan es 4\n",
      "el alumno juan esta aprobado\n"
     ]
    },
    {
     "name": "stdin",
     "output_type": "stream",
     "text": [
      "¿Cual es el nombre de el alumno? jesus\n",
      "¿Cual es la primera nota? 4\n"
     ]
    },
    {
     "name": "stdout",
     "output_type": "stream",
     "text": [
      "la nota es 4\n"
     ]
    },
    {
     "name": "stdin",
     "output_type": "stream",
     "text": [
      "¿Cual es la segunda nota? 3\n"
     ]
    },
    {
     "name": "stdout",
     "output_type": "stream",
     "text": [
      "la nota es 3\n"
     ]
    },
    {
     "name": "stdin",
     "output_type": "stream",
     "text": [
      "¿Cual es la tercera nota? 6\n"
     ]
    },
    {
     "name": "stdout",
     "output_type": "stream",
     "text": [
      "la nota es 6\n",
      "el promedio de el alumno  jesus es 4\n",
      "el alumno jesus esta aprobado\n"
     ]
    },
    {
     "name": "stdin",
     "output_type": "stream",
     "text": [
      "¿Cual es el nombre de el alumno? jose\n",
      "¿Cual es la primera nota? 2\n"
     ]
    },
    {
     "name": "stdout",
     "output_type": "stream",
     "text": [
      "la nota es 2\n"
     ]
    },
    {
     "name": "stdin",
     "output_type": "stream",
     "text": [
      "¿Cual es la segunda nota? 3\n"
     ]
    },
    {
     "name": "stdout",
     "output_type": "stream",
     "text": [
      "la nota es 3\n"
     ]
    },
    {
     "name": "stdin",
     "output_type": "stream",
     "text": [
      "¿Cual es la tercera nota? 2\n"
     ]
    },
    {
     "name": "stdout",
     "output_type": "stream",
     "text": [
      "la nota es 2\n",
      "el promedio de el alumno  jose es 2\n",
      "el alumno jose esta desaprobado\n",
      "la lista de alumnos es ['juan', 'jesus', 'jose']\n"
     ]
    }
   ],
   "source": [
    "n= int(input(\"¿Cuantos alumnos tienes?\"))\n",
    "print (\"tienes\",n,\"alumnos\")\n",
    "\n",
    "list=[]           \n",
    "aprobados=[]\n",
    "desaprobados=[]\n",
    "notas=[]\n",
    "\n",
    "for x in range(n):    \n",
    "    \n",
    "    a=input(\"¿Cual es el nombre de el alumno?\")   \n",
    "    \n",
    "    while True:\n",
    "        b1=int(input(\"¿Cual es la primera nota?\"))    \n",
    "        if b1<=10 and b1>=0:                        \n",
    "            print (\"la nota es\" ,b1)\n",
    "            break\n",
    "        else:\n",
    "            print(\"ingrese la nota nuevamente\")\n",
    "            \n",
    "    while True:\n",
    "        b2=int(input(\"¿Cual es la segunda nota?\"))\n",
    "        if b2<=10 and b2>=0:\n",
    "            print (\"la nota es\" ,b2)\n",
    "            break\n",
    "        else:\n",
    "            print(\"ingrese la nota nuevamente\")\n",
    "      \n",
    "    while True:\n",
    "        b3=int(input(\"¿Cual es la tercera nota?\"))\n",
    "        if b3<=10 and b3>=0:\n",
    "            print (\"la nota es\" ,b3)\n",
    "            break\n",
    "        else:\n",
    "            print(\"ingrese la nota nuevamente\")        \n",
    "        \n",
    "    promedio=int((b1+b2+b3)/3)                             \n",
    "    \n",
    "    print(\"el promedio de el alumno \",a, \"es\" ,promedio)\n",
    "    \n",
    "    if promedio>=4:\n",
    "        aprobados.append(a)                                  \n",
    "        print (\"el alumno\" ,a, \"esta aprobado\")            \n",
    "    else:\n",
    "        print (\"el alumno\" ,a, \"esta desaprobado\")\n",
    "        desaprobados.append(a)\n",
    "        \n",
    "    \n",
    "    notas.append(promedio)               \n",
    "    \n",
    "    \n",
    "    list.append(a)                       \n",
    "    \n",
    "    \n",
    "    \n",
    "print(\"la lista de alumnos es\",list)"
   ]
  },
  {
   "cell_type": "markdown",
   "metadata": {},
   "source": [
    "2.\n",
    "Definir una función que dado un listado de alumnos evalúe cuántos aprobaron y cuántos desaprobaron, teniendo en cuenta que se aprueba con 4. La nota será el promedio de las 3 notas para cada alumno."
   ]
  },
  {
   "cell_type": "code",
   "execution_count": 10,
   "metadata": {},
   "outputs": [],
   "source": [
    "def funcion(h):\n",
    "    return len(h)"
   ]
  },
  {
   "cell_type": "code",
   "execution_count": 11,
   "metadata": {},
   "outputs": [
    {
     "data": {
      "text/plain": [
       "2"
      ]
     },
     "execution_count": 11,
     "metadata": {},
     "output_type": "execute_result"
    }
   ],
   "source": [
    "funcion(aprobados)"
   ]
  },
  {
   "cell_type": "code",
   "execution_count": 12,
   "metadata": {},
   "outputs": [
    {
     "data": {
      "text/plain": [
       "1"
      ]
     },
     "execution_count": 12,
     "metadata": {},
     "output_type": "execute_result"
    }
   ],
   "source": [
    "funcion(desaprobados)"
   ]
  },
  {
   "cell_type": "code",
   "execution_count": null,
   "metadata": {},
   "outputs": [],
   "source": []
  },
  {
   "cell_type": "markdown",
   "metadata": {},
   "source": [
    "### 3.\n",
    "Informar el promedio de nota del curso total."
   ]
  },
  {
   "cell_type": "code",
   "execution_count": 13,
   "metadata": {},
   "outputs": [
    {
     "name": "stdout",
     "output_type": "stream",
     "text": [
      "las notas son:  [4, 4, 2]\n",
      "el promedio total del curso es:  3.3333333333333335\n"
     ]
    }
   ],
   "source": [
    "print( \"las notas son: \",notas)\n",
    "\n",
    "promedio_total=sum(notas)/n   \n",
    "print(\"el promedio total del curso es: \", float(promedio_total))"
   ]
  },
  {
   "cell_type": "code",
   "execution_count": null,
   "metadata": {},
   "outputs": [],
   "source": []
  },
  {
   "cell_type": "markdown",
   "metadata": {},
   "source": [
    "### 4.\n",
    "Realizar una función que indique quién tuvo el promedio más alto y quién tuvo la nota promedio más baja."
   ]
  },
  {
   "cell_type": "code",
   "execution_count": 14,
   "metadata": {},
   "outputs": [
    {
     "name": "stdout",
     "output_type": "stream",
     "text": [
      "la maxima nota es de:  juan\n",
      "la minima nota es de:  jose\n"
     ]
    }
   ],
   "source": [
    "maxima_nota=list[notas.index(max(notas))]\n",
    "print (\"la maxima nota es de: \",maxima_nota)\n",
    "\n",
    "minima_nota=list[notas.index(min(notas))]\n",
    "print (\"la minima nota es de: \",minima_nota)"
   ]
  },
  {
   "cell_type": "code",
   "execution_count": null,
   "metadata": {},
   "outputs": [],
   "source": []
  },
  {
   "cell_type": "code",
   "execution_count": null,
   "metadata": {},
   "outputs": [],
   "source": []
  },
  {
   "cell_type": "markdown",
   "metadata": {},
   "source": [
    "### 5.\n",
    "Realizar una función que permita buscar un alumno por nombre, siendo el nombre completo o parcial, y devuelva una lista con los n alumnos que concuerden con ese nombre junto con todos sus datos, incluido el promedio de sus notas."
   ]
  },
  {
   "cell_type": "code",
   "execution_count": 16,
   "metadata": {},
   "outputs": [
    {
     "name": "stdin",
     "output_type": "stream",
     "text": [
      "ingrese el nombre del alumno jesus\n"
     ]
    },
    {
     "name": "stdout",
     "output_type": "stream",
     "text": [
      "el alumno sí esta en la lista\n",
      "el promedio de sus notas es:  4\n",
      "el alumno esta aprobado\n"
     ]
    }
   ],
   "source": [
    "f=input(\"ingrese el nombre del alumno\")\n",
    "if True:\n",
    "    f in list\n",
    "    print(\"el alumno sí esta en la lista\")\n",
    "    print(\"el promedio de sus notas es: \", notas[list.index(f)])\n",
    "    if notas[list.index(f)]>=4:                                 \n",
    "        print (\"el alumno esta aprobado\")            \n",
    "    else:\n",
    "        print (\"el alumno esta desaprobado\")\n",
    "         \n",
    "else:\n",
    "    print(\"no esta en la lista\")"
   ]
  },
  {
   "cell_type": "code",
   "execution_count": null,
   "metadata": {},
   "outputs": [],
   "source": []
  }
 ],
 "metadata": {
  "kernelspec": {
   "display_name": "Python 3",
   "language": "python",
   "name": "python3"
  },
  "language_info": {
   "codemirror_mode": {
    "name": "ipython",
    "version": 3
   },
   "file_extension": ".py",
   "mimetype": "text/x-python",
   "name": "python",
   "nbconvert_exporter": "python",
   "pygments_lexer": "ipython3",
   "version": "3.8.3"
  }
 },
 "nbformat": 4,
 "nbformat_minor": 4
}
