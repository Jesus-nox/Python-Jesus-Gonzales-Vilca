{
 "cells": [
  {
   "cell_type": "markdown",
   "metadata": {},
   "source": [
    "# PROBLEMAS DIVERSOS"
   ]
  },
  {
   "cell_type": "markdown",
   "metadata": {},
   "source": [
    "<h3>1.</h3>\n",
    "Realizar una función que permita la carga de n alumnos. Por cada alumno se deberá preguntar el nombre completo y permitir el ingreso de 3 notas. Las notas deben estar comprendidas entre 0 y 10. Devolver el listado de alumnos."
   ]
  },
  {
   "cell_type": "code",
   "execution_count": 26,
   "metadata": {},
   "outputs": [
    {
     "name": "stdin",
     "output_type": "stream",
     "text": [
      "¿Cuantos alumnos tienes? 3\n"
     ]
    },
    {
     "name": "stdout",
     "output_type": "stream",
     "text": [
      "tienes 3 alumnos\n"
     ]
    },
    {
     "name": "stdin",
     "output_type": "stream",
     "text": [
      "¿Cual es el nombre completo de el alumno? jesus daniel gonzales vilca\n",
      "¿Cual es la primera nota? 4\n"
     ]
    },
    {
     "name": "stdout",
     "output_type": "stream",
     "text": [
      "la nota es 4\n"
     ]
    },
    {
     "name": "stdin",
     "output_type": "stream",
     "text": [
      "¿Cual es la segunda nota? 4\n"
     ]
    },
    {
     "name": "stdout",
     "output_type": "stream",
     "text": [
      "la nota es 4\n"
     ]
    },
    {
     "name": "stdin",
     "output_type": "stream",
     "text": [
      "¿Cual es la tercera nota? 3\n"
     ]
    },
    {
     "name": "stdout",
     "output_type": "stream",
     "text": [
      "la nota es 3\n",
      "el promedio de el alumno  jesus daniel gonzales vilca es 3\n",
      "el alumno jesus daniel gonzales vilca esta desaprobado\n"
     ]
    },
    {
     "name": "stdin",
     "output_type": "stream",
     "text": [
      "¿Cual es el nombre completo de el alumno? jose antonio vargas solis\n",
      "¿Cual es la primera nota? 4\n"
     ]
    },
    {
     "name": "stdout",
     "output_type": "stream",
     "text": [
      "la nota es 4\n"
     ]
    },
    {
     "name": "stdin",
     "output_type": "stream",
     "text": [
      "¿Cual es la segunda nota? 3\n"
     ]
    },
    {
     "name": "stdout",
     "output_type": "stream",
     "text": [
      "la nota es 3\n"
     ]
    },
    {
     "name": "stdin",
     "output_type": "stream",
     "text": [
      "¿Cual es la tercera nota? 4\n"
     ]
    },
    {
     "name": "stdout",
     "output_type": "stream",
     "text": [
      "la nota es 4\n",
      "el promedio de el alumno  jose antonio vargas solis es 3\n",
      "el alumno jose antonio vargas solis esta desaprobado\n"
     ]
    },
    {
     "name": "stdin",
     "output_type": "stream",
     "text": [
      "¿Cual es el nombre completo de el alumno? cris josimar flores montes\n",
      "¿Cual es la primera nota? 5\n"
     ]
    },
    {
     "name": "stdout",
     "output_type": "stream",
     "text": [
      "la nota es 5\n"
     ]
    },
    {
     "name": "stdin",
     "output_type": "stream",
     "text": [
      "¿Cual es la segunda nota? 6\n"
     ]
    },
    {
     "name": "stdout",
     "output_type": "stream",
     "text": [
      "la nota es 6\n"
     ]
    },
    {
     "name": "stdin",
     "output_type": "stream",
     "text": [
      "¿Cual es la tercera nota? 3\n"
     ]
    },
    {
     "name": "stdout",
     "output_type": "stream",
     "text": [
      "la nota es 3\n",
      "el promedio de el alumno  cris josimar flores montes es 4\n",
      "el alumno cris josimar flores montes esta aprobado\n",
      "la lista de alumnos es ['jesus daniel gonzales vilca', 'jose antonio vargas solis', 'cris josimar flores montes']\n"
     ]
    }
   ],
   "source": [
    "n= int(input(\"¿Cuantos alumnos tienes?\"))\n",
    "print (\"tienes\",n,\"alumnos\")\n",
    "\n",
    "list=[]           \n",
    "aprobados=[]\n",
    "desaprobados=[]\n",
    "notas=[]\n",
    "\n",
    "for i in range(n):    \n",
    "    \n",
    "    a=input(\"¿Cual es el nombre completo de el alumno?\")   \n",
    "    \n",
    "    while True:\n",
    "        b1=int(input(\"¿Cual es la primera nota?\"))    \n",
    "        if b1<=10 and b1>=0:                        \n",
    "            print (\"la nota es\" ,b1)\n",
    "            break\n",
    "        else:\n",
    "            print(\"ingrese la nota nuevamente\")\n",
    "            \n",
    "    while True:\n",
    "        b2=int(input(\"¿Cual es la segunda nota?\"))\n",
    "        if b2<=10 and b2>=0:\n",
    "            print (\"la nota es\" ,b2)\n",
    "            break\n",
    "        else:\n",
    "            print(\"ingrese la nota nuevamente\")\n",
    "      \n",
    "    while True:\n",
    "        b3=int(input(\"¿Cual es la tercera nota?\"))\n",
    "        if b3<=10 and b3>=0:\n",
    "            print (\"la nota es\" ,b3)\n",
    "            break\n",
    "        else:\n",
    "            print(\"ingrese la nota nuevamente\")        \n",
    "        \n",
    "    promedio=int((b1+b2+b3)/3)                             \n",
    "    \n",
    "    print(\"el promedio de el alumno \",a, \"es\" ,promedio)\n",
    "    \n",
    "    if promedio>=4:\n",
    "        aprobados.append(a)                                  \n",
    "        print (\"el alumno\" ,a, \"esta aprobado\")            \n",
    "    else:\n",
    "        print (\"el alumno\" ,a, \"esta desaprobado\")\n",
    "        desaprobados.append(a)\n",
    "        \n",
    "    \n",
    "    notas.append(promedio)               \n",
    "    \n",
    "    \n",
    "    list.append(a)                       \n",
    "    \n",
    "    \n",
    "    \n",
    "print(\"la lista de alumnos es\",list)\n",
    "         "
   ]
  },
  {
   "cell_type": "code",
   "execution_count": 1,
   "metadata": {},
   "outputs": [
    {
     "ename": "NameError",
     "evalue": "name 'num' is not defined",
     "output_type": "error",
     "traceback": [
      "\u001b[1;31m---------------------------------------------------------------------------\u001b[0m",
      "\u001b[1;31mNameError\u001b[0m                                 Traceback (most recent call last)",
      "\u001b[1;32m<ipython-input-1-d41f46e0c068>\u001b[0m in \u001b[0;36m<module>\u001b[1;34m\u001b[0m\n\u001b[0;32m      1\u001b[0m \u001b[0mlistado_alumnos\u001b[0m\u001b[1;33m=\u001b[0m\u001b[1;33m[\u001b[0m\u001b[1;33m]\u001b[0m\u001b[1;33m\u001b[0m\u001b[1;33m\u001b[0m\u001b[0m\n\u001b[1;32m----> 2\u001b[1;33m \u001b[1;32mfor\u001b[0m \u001b[0mi\u001b[0m \u001b[1;32min\u001b[0m \u001b[0mrange\u001b[0m\u001b[1;33m(\u001b[0m\u001b[0mnum\u001b[0m\u001b[1;33m)\u001b[0m\u001b[1;33m:\u001b[0m\u001b[1;33m\u001b[0m\u001b[1;33m\u001b[0m\u001b[0m\n\u001b[0m\u001b[0;32m      3\u001b[0m     \u001b[0mnomb\u001b[0m\u001b[1;33m=\u001b[0m\u001b[0minput\u001b[0m\u001b[1;33m(\u001b[0m\u001b[1;34m\"Ingrese el nombre completo del alumno: \"\u001b[0m\u001b[1;33m)\u001b[0m\u001b[1;33m\u001b[0m\u001b[1;33m\u001b[0m\u001b[0m\n\u001b[0;32m      4\u001b[0m     \u001b[0mnota1\u001b[0m\u001b[1;33m=\u001b[0m\u001b[0mint\u001b[0m\u001b[1;33m(\u001b[0m\u001b[0minput\u001b[0m\u001b[1;33m(\u001b[0m\u001b[1;34m\"Ingrese la nota 1 del alumno \"\u001b[0m\u001b[1;33m)\u001b[0m\u001b[1;33m)\u001b[0m\u001b[1;33m\u001b[0m\u001b[1;33m\u001b[0m\u001b[0m\n\u001b[0;32m      5\u001b[0m     \u001b[0mnota2\u001b[0m\u001b[1;33m=\u001b[0m\u001b[0mint\u001b[0m\u001b[1;33m(\u001b[0m\u001b[0minput\u001b[0m\u001b[1;33m(\u001b[0m\u001b[1;34m\"Ingrese la nota 2 del alumno \"\u001b[0m\u001b[1;33m)\u001b[0m\u001b[1;33m)\u001b[0m\u001b[1;33m\u001b[0m\u001b[1;33m\u001b[0m\u001b[0m\n",
      "\u001b[1;31mNameError\u001b[0m: name 'num' is not defined"
     ]
    }
   ],
   "source": []
  },
  {
   "cell_type": "code",
   "execution_count": null,
   "metadata": {},
   "outputs": [],
   "source": []
  },
  {
   "cell_type": "markdown",
   "metadata": {},
   "source": [
    "### 2.\n",
    "Definir una función que dado un listado de alumnos evalúe cuántos aprobaron y cuántos desaprobaron, teniendo en cuenta que se aprueba con 4. La nota será el promedio de las 3 notas para cada alumno."
   ]
  },
  {
   "cell_type": "code",
   "execution_count": 27,
   "metadata": {},
   "outputs": [],
   "source": [
    "  \n",
    "def funcion(h):\n",
    "    return len(h)\n",
    "   "
   ]
  },
  {
   "cell_type": "code",
   "execution_count": 28,
   "metadata": {},
   "outputs": [
    {
     "data": {
      "text/plain": [
       "1"
      ]
     },
     "execution_count": 28,
     "metadata": {},
     "output_type": "execute_result"
    }
   ],
   "source": [
    "funcion(aprobados)"
   ]
  },
  {
   "cell_type": "code",
   "execution_count": 29,
   "metadata": {},
   "outputs": [
    {
     "data": {
      "text/plain": [
       "2"
      ]
     },
     "execution_count": 29,
     "metadata": {},
     "output_type": "execute_result"
    }
   ],
   "source": [
    "funcion(desaprobados)"
   ]
  },
  {
   "cell_type": "markdown",
   "metadata": {},
   "source": [
    "### 3.\n",
    "Informar el promedio de nota del curso total."
   ]
  },
  {
   "cell_type": "code",
   "execution_count": 30,
   "metadata": {},
   "outputs": [
    {
     "name": "stdout",
     "output_type": "stream",
     "text": [
      "las notas son:  [3, 3, 4]\n",
      "el promedio total del curso es:  3.3333333333333335\n"
     ]
    }
   ],
   "source": [
    "print( \"las notas son: \",notas)\n",
    "\n",
    "promedio_total=sum(notas)/n   \n",
    "print(\"el promedio total del curso es: \", float(promedio_total))"
   ]
  },
  {
   "cell_type": "code",
   "execution_count": null,
   "metadata": {},
   "outputs": [],
   "source": []
  },
  {
   "cell_type": "markdown",
   "metadata": {},
   "source": [
    "### 4.\n",
    "Realizar una función que indique quién tuvo el promedio más alto y quién tuvo la nota promedio más baja."
   ]
  },
  {
   "cell_type": "code",
   "execution_count": 31,
   "metadata": {},
   "outputs": [
    {
     "name": "stdout",
     "output_type": "stream",
     "text": [
      "la maxima nota es de:  cris josimar flores montes\n",
      "la minima nota es de:  jesus daniel gonzales vilca\n"
     ]
    }
   ],
   "source": [
    "maxima_nota=list[notas.index(max(notas))]\n",
    "print (\"la maxima nota es de: \",maxima_nota)\n",
    "\n",
    "minima_nota=list[notas.index(min(notas))]\n",
    "print (\"la minima nota es de: \",minima_nota)"
   ]
  },
  {
   "cell_type": "code",
   "execution_count": null,
   "metadata": {},
   "outputs": [],
   "source": []
  },
  {
   "cell_type": "code",
   "execution_count": null,
   "metadata": {},
   "outputs": [],
   "source": []
  },
  {
   "cell_type": "markdown",
   "metadata": {},
   "source": [
    "### 5.\n",
    "Realizar una función que permita buscar un alumno por nombre, siendo el nombre completo o parcial, y devuelva una lista con los n alumnos que concuerden con ese nombre junto con todos sus datos, incluido el promedio de sus notas."
   ]
  },
  {
   "cell_type": "code",
   "execution_count": 33,
   "metadata": {},
   "outputs": [
    {
     "name": "stdin",
     "output_type": "stream",
     "text": [
      "ingrese el nombre del alumno jesus daniel gonzales vilca\n"
     ]
    },
    {
     "name": "stdout",
     "output_type": "stream",
     "text": [
      "el alumno sí esta en la lista\n",
      "el promedio de sus notas es:  3\n",
      "el alumno esta desaprobado\n"
     ]
    }
   ],
   "source": [
    "f=input(\"ingrese el nombre del alumno\")\n",
    "if True:\n",
    "    f in list\n",
    "    print(\"el alumno sí esta en la lista\")\n",
    "    print(\"el promedio de sus notas es: \", notas[list.index(f)])\n",
    "    if notas[list.index(f)]>=4:                                 \n",
    "        print (\"el alumno esta aprobado\")            \n",
    "    else:\n",
    "        print (\"el alumno esta desaprobado\")\n",
    "         \n",
    "else:\n",
    "    print(\"no esta en la lista\")\n",
    "    "
   ]
  },
  {
   "cell_type": "code",
   "execution_count": null,
   "metadata": {},
   "outputs": [],
   "source": []
  }
 ],
 "metadata": {
  "kernelspec": {
   "display_name": "Python 3",
   "language": "python",
   "name": "python3"
  },
  "language_info": {
   "codemirror_mode": {
    "name": "ipython",
    "version": 3
   },
   "file_extension": ".py",
   "mimetype": "text/x-python",
   "name": "python",
   "nbconvert_exporter": "python",
   "pygments_lexer": "ipython3",
   "version": "3.8.3"
  }
 },
 "nbformat": 4,
 "nbformat_minor": 4
}
